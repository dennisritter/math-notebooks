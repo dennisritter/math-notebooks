{
 "cells": [
  {
   "cell_type": "code",
   "execution_count": 18,
   "id": "61fd2f07",
   "metadata": {},
   "outputs": [],
   "source": [
    "import numpy as np\n",
    "from scipy import stats"
   ]
  },
  {
   "cell_type": "markdown",
   "id": "f254ce49",
   "metadata": {},
   "source": [
    "# Descriptive Statistics\n",
    "1. [Arithmetic Mean](#arithmetic-Mean)\n",
    "1. [Median](#median)\n",
    "1. [Mode](#mode)\n",
    "1. [Range](#range)\n",
    "1. [Interquartile Range (IQR)](#iqr)"
   ]
  },
  {
   "cell_type": "markdown",
   "id": "632d81d2",
   "metadata": {},
   "source": [
    "### <a id=\"arithmetic-mean\">Arithmetic Mean</a>\n",
    "$$\n",
    "\\bar{x} = \\frac{1}{n} \\sum_{i=1}^{n} x_i\n",
    "$$\n",
    "\n",
    "$\\bar{x}$ = arithmetic mean  \n",
    "$n$ = number of data points  \n",
    "$x_i$ = the $i$-th data point in the dataset\n",
    "\n",
    "---\n",
    "The arithmetic mean, often simply called the mean, is a measure of central tendency that represents the \"average\" of a set of numbers. <br>It gives you a sense of the \"center\" of the data by taking the sum of all the values and dividing it by the number of values.\n"
   ]
  },
  {
   "cell_type": "code",
   "execution_count": 37,
   "id": "fc92f0e9",
   "metadata": {},
   "outputs": [
    {
     "name": "stdout",
     "output_type": "stream",
     "text": [
      "Arithmetic Mean = 5.0\n"
     ]
    }
   ],
   "source": [
    "data = np.array([0, 1, 2, 3, 4, 5, 6, 7, 8, 9, 10])\n",
    "\n",
    "arithmetic_mean = np.mean(data)\n",
    "print(f\"Arithmetic Mean = {arithmetic_mean}\")"
   ]
  },
  {
   "cell_type": "markdown",
   "id": "cde00025",
   "metadata": {},
   "source": [
    "### <a id=\"median\">Median</a>\n",
    "$$\n",
    "\\text{Let } x_1, x_2, \\ldots, x_n \\text{ be a sorted sequence (in increasing order).} \\\\\n",
    "\\text{median}(x) = \n",
    "\\begin{cases}\n",
    "x_{\\left( \\frac{n+1}{2} \\right)}, & \\text{if } n \\text{ is odd} \\\\\n",
    "\\frac{1}{2} \\left( x_{\\left( \\frac{n}{2} \\right)} + x_{\\left( \\frac{n}{2} + 1 \\right)} \\right), & \\text{if } n \\text{ is even}\n",
    "\\end{cases} \\\\\n",
    "$$\n",
    "$ \\text{For odd } n\\text{: take the middle value.}$ <br>\n",
    "$ \\text{For even } n\\text{: take the average of the two middle values.}$\n",
    "\n",
    "---\n",
    "The median is the middle value in a sorted list of numbers. It's the point that splits the data in half — 50% of the values lie below it, and 50% lie above it.<br>\n",
    "It gives you a sense of the \"typical\" value in a dataset — especially when the data is skewed or contains outliers.\n"
   ]
  },
  {
   "cell_type": "code",
   "execution_count": 38,
   "id": "8fbd860d",
   "metadata": {},
   "outputs": [
    {
     "name": "stdout",
     "output_type": "stream",
     "text": [
      "Median = 50.0\n"
     ]
    }
   ],
   "source": [
    "data = np.array([0, 1, 2, 50, 98, 99, 100])\n",
    "\n",
    "median = np.median(data)\n",
    "print(f\"Median = {median}\")"
   ]
  },
  {
   "cell_type": "markdown",
   "id": "f8385bd9",
   "metadata": {},
   "source": [
    "### <a id=\"mode\">Mode</a>\n",
    "\n",
    "In statistics, the mode is the value that appears most frequently in a dataset.\n",
    "\n"
   ]
  },
  {
   "cell_type": "code",
   "execution_count": 39,
   "id": "1aa9789a",
   "metadata": {},
   "outputs": [
    {
     "name": "stdout",
     "output_type": "stream",
     "text": [
      "Most frequent number: 1\n",
      "Occurences: 5\n"
     ]
    }
   ],
   "source": [
    "data = np.array([1, 1, 1, 1, 1, 2, 2, 2, 3, 3, 3])\n",
    "\n",
    "mode = stats.mode(data)\n",
    "print(f\"Most frequent number: {mode[0]}\")\n",
    "print(f\"Occurences: {mode[1]}\")"
   ]
  },
  {
   "cell_type": "markdown",
   "id": "5b96fc20",
   "metadata": {},
   "source": [
    "### <a id=\"range\">Range</a>\n",
    "\n",
    "$$\n",
    "Range = x_{max} - x_{min}\n",
    "$$\n",
    "\n",
    "---\n",
    "The range is one of the simplest measures of dispersion — it tells you how spread out the data is. <br>\n",
    "It shows the total span of the dataset from the lowest to the highest value."
   ]
  },
  {
   "cell_type": "code",
   "execution_count": 40,
   "id": "82421a7a",
   "metadata": {},
   "outputs": [
    {
     "name": "stdout",
     "output_type": "stream",
     "text": [
      "10\n"
     ]
    }
   ],
   "source": [
    "data = np.array([0, 1, 2, 3, 4, 5, 6, 7, 8, 9, 10])\n",
    "\n",
    "range = max(data) - min(data)\n",
    "print(range)"
   ]
  },
  {
   "cell_type": "markdown",
   "id": "22de6449",
   "metadata": {},
   "source": [
    "### <a id=\"iqr\">Interquartile Range</a>\n",
    "\n",
    "$$\n",
    "IQR = Q_3 - Q_1 \\\\\n",
    "\n",
    "Q_1 = \\text{First quartile (25th percentile)}\\\\\n",
    "Q_3 = \\text{First quartile (75th percentile)}\n",
    "$$\n",
    "\n",
    "---\n",
    "IQR stands for Interquartile Range. It measures the spread of the middle 50% of a dataset. <br>\n",
    "The IQR shows the range between the 25th and 75th percentile — where the bulk of the data lies."
   ]
  },
  {
   "cell_type": "code",
   "execution_count": 49,
   "id": "72e052c2",
   "metadata": {},
   "outputs": [
    {
     "name": "stdout",
     "output_type": "stream",
     "text": [
      "Q1 = 2.5\n",
      "Q3 = 7.5\n",
      "IQR = 5.0\n"
     ]
    }
   ],
   "source": [
    "data = np.array([0, 1, 2, 3, 4, 5, 6, 7, 8, 9, 10])\n",
    "\n",
    "percentile_25 = np.percentile(data, 25)\n",
    "percentile_75 = np.percentile(data, 75)\n",
    "iqr = stats.iqr(data)\n",
    "print(f\"Q1 = {percentile_25}\")\n",
    "print(f\"Q3 = {percentile_75}\")\n",
    "print(f\"IQR = {iqr}\")"
   ]
  },
  {
   "cell_type": "markdown",
   "id": "52089b8b",
   "metadata": {},
   "source": [
    "### Skewness\n",
    "\n",
    "$$\n",
    "\\hat{\\gamma}_m = \\frac{n}{(n - 1)(n - 2)} \\sum_{i=1}^{n} \\left( \\frac{x_i - \\bar{x}}{s} \\right)^3\n",
    "$$\n",
    "\n",
    "---\n",
    "The Fisher-Pearson moment coefficient of skewness is a way to measure how asymmetrical a distribution is. It's also known as Pearson's moment coefficient of skewness.<br>\n",
    "* The value of the skewness measure can be positive or negative, or even undefined \n",
    "* The higher the absolute value of the skewness measure, the more asymmetric the distribution \n",
    "* A symmetrical distribution has a skewness of zero \n",
    "\n",
    "Not the official definition of skewness, but a simple approximation that is often used for intuitive estimation of skewness is \"Pearson's skewness\".\n",
    "\n",
    "$$\n",
    "\\text{Skewness} = \\frac{\\text{Mean - Median}}{\\text{Standard Deviation}}\n",
    "$$\n",
    "\n",
    "Skewness > 0 = Positive Skewness. High outliers. Most values low. <br>\n",
    "Skewness = 0 = Symmetric dataset. Curve normally distributed. <br>\n",
    "Skewness < 0 = Negative Skewness. Low outliers. Most values high. <br>"
   ]
  },
  {
   "cell_type": "code",
   "execution_count": null,
   "id": "7697728d",
   "metadata": {},
   "outputs": [
    {
     "name": "stdout",
     "output_type": "stream",
     "text": [
      "Skew = 1.0981235937257903\n"
     ]
    }
   ],
   "source": [
    "data = np.array([0, 1, 2, 50, 98, 99, 100, 111, 222, 333, 444])\n",
    "\n",
    "skew = stats.skew(data)\n",
    "print(f\"Skew = {skew}\")"
   ]
  },
  {
   "cell_type": "markdown",
   "id": "c5f285f5",
   "metadata": {},
   "source": []
  }
 ],
 "metadata": {
  "kernelspec": {
   "display_name": "math-notebooks",
   "language": "python",
   "name": "python3"
  },
  "language_info": {
   "codemirror_mode": {
    "name": "ipython",
    "version": 3
   },
   "file_extension": ".py",
   "mimetype": "text/x-python",
   "name": "python",
   "nbconvert_exporter": "python",
   "pygments_lexer": "ipython3",
   "version": "3.13.0"
  }
 },
 "nbformat": 4,
 "nbformat_minor": 5
}
