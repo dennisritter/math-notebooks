{
 "cells": [
  {
   "cell_type": "code",
   "execution_count": 1,
   "id": "61fd2f07",
   "metadata": {},
   "outputs": [],
   "source": [
    "import numpy as np"
   ]
  },
  {
   "cell_type": "markdown",
   "id": "f254ce49",
   "metadata": {},
   "source": [
    "# Descriptive Statistics\n",
    "1. [Arithmetic Mean](#Arithmetic-Mean)\n",
    "1. [Two](#Two)\n",
    "1. [Three](#Three)\n",
    "1. [Four](#Four)"
   ]
  },
  {
   "cell_type": "markdown",
   "id": "632d81d2",
   "metadata": {},
   "source": [
    "### <a name=\"Arithmetic-Mean\">Arithmetic Mean</a>\n",
    "$\n",
    "\\bar{x} = \\frac{1}{n} \\sum_{i=1}^{n} x_i\n",
    "$\n",
    "\n",
    "$\\bar{x}$ = arithmetic mean  \n",
    "$n$ = number of data points  \n",
    "$x_i$ = the $i$-th data point in the dataset\n",
    "\n",
    "---\n",
    "#### Intuition\n",
    "The arithmetic mean, often simply called the mean, is a measure of central tendency that represents the \"average\" of a set of numbers. It gives you a sense of the \"center\" of the data by taking the sum of all the values and dividing it by the number of values.\n"
   ]
  },
  {
   "cell_type": "code",
   "execution_count": null,
   "id": "fc92f0e9",
   "metadata": {},
   "outputs": [
    {
     "name": "stdout",
     "output_type": "stream",
     "text": [
      "5.5\n"
     ]
    }
   ],
   "source": [
    "data = np.array([0, 1, 2, 3, 4, 5, 6, 7, 8, 9, 10])\n",
    "\n",
    "result = np.mean(data)\n",
    "print(result)  # Output: 10.0"
   ]
  },
  {
   "cell_type": "markdown",
   "id": "f8385bd9",
   "metadata": {},
   "source": [
    "<a name=\"Two\">Two\n",
    "</a>\n"
   ]
  },
  {
   "cell_type": "markdown",
   "id": "5b96fc20",
   "metadata": {},
   "source": [
    "<a name=\"Three\">Three\n",
    "</a>\n"
   ]
  },
  {
   "cell_type": "code",
   "execution_count": null,
   "id": "82421a7a",
   "metadata": {},
   "outputs": [],
   "source": []
  },
  {
   "cell_type": "markdown",
   "id": "22de6449",
   "metadata": {},
   "source": [
    "<a name=\"Four\">Four</a>\n"
   ]
  }
 ],
 "metadata": {
  "kernelspec": {
   "display_name": "math-notebooks",
   "language": "python",
   "name": "python3"
  },
  "language_info": {
   "codemirror_mode": {
    "name": "ipython",
    "version": 3
   },
   "file_extension": ".py",
   "mimetype": "text/x-python",
   "name": "python",
   "nbconvert_exporter": "python",
   "pygments_lexer": "ipython3",
   "version": "3.13.0"
  }
 },
 "nbformat": 4,
 "nbformat_minor": 5
}
